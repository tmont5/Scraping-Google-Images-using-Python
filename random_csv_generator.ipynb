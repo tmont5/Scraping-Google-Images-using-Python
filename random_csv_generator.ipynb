{
 "cells": [
  {
   "cell_type": "code",
   "execution_count": 7,
   "metadata": {},
   "outputs": [],
   "source": [
    "import pandas as pd\n",
    "import numpy as np\n",
    "import json\n",
    "import csv"
   ]
  },
  {
   "cell_type": "code",
   "execution_count": 3,
   "metadata": {},
   "outputs": [
    {
     "data": {
      "text/html": [
       "<div>\n",
       "<style scoped>\n",
       "    .dataframe tbody tr th:only-of-type {\n",
       "        vertical-align: middle;\n",
       "    }\n",
       "\n",
       "    .dataframe tbody tr th {\n",
       "        vertical-align: top;\n",
       "    }\n",
       "\n",
       "    .dataframe thead th {\n",
       "        text-align: right;\n",
       "    }\n",
       "</style>\n",
       "<table border=\"1\" class=\"dataframe\">\n",
       "  <thead>\n",
       "    <tr style=\"text-align: right;\">\n",
       "      <th></th>\n",
       "      <th>file_path</th>\n",
       "      <th>model</th>\n",
       "      <th>make</th>\n",
       "      <th>year</th>\n",
       "    </tr>\n",
       "  </thead>\n",
       "  <tbody>\n",
       "    <tr>\n",
       "      <th>0</th>\n",
       "      <td>dataset/toyota camry 1985 exterior/184e96f8fe.jpg</td>\n",
       "      <td>camry</td>\n",
       "      <td>toyota</td>\n",
       "      <td>1985</td>\n",
       "    </tr>\n",
       "    <tr>\n",
       "      <th>1</th>\n",
       "      <td>dataset/toyota camry 1985 exterior/d7f22f0f55.jpg</td>\n",
       "      <td>camry</td>\n",
       "      <td>toyota</td>\n",
       "      <td>1985</td>\n",
       "    </tr>\n",
       "    <tr>\n",
       "      <th>2</th>\n",
       "      <td>dataset/toyota camry 1985 exterior/efea4bc06a.jpg</td>\n",
       "      <td>camry</td>\n",
       "      <td>toyota</td>\n",
       "      <td>1985</td>\n",
       "    </tr>\n",
       "    <tr>\n",
       "      <th>3</th>\n",
       "      <td>dataset/toyota camry 1985 exterior/fda182e016.jpg</td>\n",
       "      <td>camry</td>\n",
       "      <td>toyota</td>\n",
       "      <td>1985</td>\n",
       "    </tr>\n",
       "    <tr>\n",
       "      <th>4</th>\n",
       "      <td>dataset/toyota camry 1985 exterior/fcbf1688ca.jpg</td>\n",
       "      <td>camry</td>\n",
       "      <td>toyota</td>\n",
       "      <td>1985</td>\n",
       "    </tr>\n",
       "    <tr>\n",
       "      <th>...</th>\n",
       "      <td>...</td>\n",
       "      <td>...</td>\n",
       "      <td>...</td>\n",
       "      <td>...</td>\n",
       "    </tr>\n",
       "    <tr>\n",
       "      <th>1299</th>\n",
       "      <td>dataset/Toyota Corolla 2005 exterior sedan/b7b...</td>\n",
       "      <td>Corolla</td>\n",
       "      <td>Toyota</td>\n",
       "      <td>2005</td>\n",
       "    </tr>\n",
       "    <tr>\n",
       "      <th>1300</th>\n",
       "      <td>dataset/Toyota Corolla 2005 exterior sedan/234...</td>\n",
       "      <td>Corolla</td>\n",
       "      <td>Toyota</td>\n",
       "      <td>2005</td>\n",
       "    </tr>\n",
       "    <tr>\n",
       "      <th>1301</th>\n",
       "      <td>dataset/Toyota Corolla 2005 exterior sedan/702...</td>\n",
       "      <td>Corolla</td>\n",
       "      <td>Toyota</td>\n",
       "      <td>2005</td>\n",
       "    </tr>\n",
       "    <tr>\n",
       "      <th>1302</th>\n",
       "      <td>dataset/Toyota Corolla 2005 exterior sedan/309...</td>\n",
       "      <td>Corolla</td>\n",
       "      <td>Toyota</td>\n",
       "      <td>2005</td>\n",
       "    </tr>\n",
       "    <tr>\n",
       "      <th>1303</th>\n",
       "      <td>dataset/Toyota Corolla 2005 exterior sedan/2a2...</td>\n",
       "      <td>Corolla</td>\n",
       "      <td>Toyota</td>\n",
       "      <td>2005</td>\n",
       "    </tr>\n",
       "  </tbody>\n",
       "</table>\n",
       "<p>1304 rows × 4 columns</p>\n",
       "</div>"
      ],
      "text/plain": [
       "                                              file_path    model    make  year\n",
       "0     dataset/toyota camry 1985 exterior/184e96f8fe.jpg    camry  toyota  1985\n",
       "1     dataset/toyota camry 1985 exterior/d7f22f0f55.jpg    camry  toyota  1985\n",
       "2     dataset/toyota camry 1985 exterior/efea4bc06a.jpg    camry  toyota  1985\n",
       "3     dataset/toyota camry 1985 exterior/fda182e016.jpg    camry  toyota  1985\n",
       "4     dataset/toyota camry 1985 exterior/fcbf1688ca.jpg    camry  toyota  1985\n",
       "...                                                 ...      ...     ...   ...\n",
       "1299  dataset/Toyota Corolla 2005 exterior sedan/b7b...  Corolla  Toyota  2005\n",
       "1300  dataset/Toyota Corolla 2005 exterior sedan/234...  Corolla  Toyota  2005\n",
       "1301  dataset/Toyota Corolla 2005 exterior sedan/702...  Corolla  Toyota  2005\n",
       "1302  dataset/Toyota Corolla 2005 exterior sedan/309...  Corolla  Toyota  2005\n",
       "1303  dataset/Toyota Corolla 2005 exterior sedan/2a2...  Corolla  Toyota  2005\n",
       "\n",
       "[1304 rows x 4 columns]"
      ]
     },
     "execution_count": 3,
     "metadata": {},
     "output_type": "execute_result"
    }
   ],
   "source": [
    "data = pd.read_csv('image_data.csv')\n",
    "\n",
    "column_names = ['file_path', 'model', 'make', 'year']\n",
    "\n",
    "default_column_names = [f'{descriptor}' for descriptor in column_names]\n",
    "data.columns = default_column_names\n",
    "data"
   ]
  },
  {
   "cell_type": "code",
   "execution_count": 4,
   "metadata": {},
   "outputs": [],
   "source": [
    "paths_list = np.array(data['file_path'].tolist())\n",
    "new_df = pd.DataFrame(columns=['Target','Random_1','Random_2','Random_3','Random_4','Random_5'])\n"
   ]
  },
  {
   "cell_type": "code",
   "execution_count": 5,
   "metadata": {},
   "outputs": [],
   "source": [
    "for path in paths_list:\n",
    "    random_indices = np.random.choice(len(paths_list), size=5, replace=True)  # Choose 10 random indices without replacement\n",
    "    random_elements = paths_list[random_indices]\n",
    "    random_elements = np.insert(random_elements, 0, path)\n",
    "\n",
    "    new_row = {'Target': random_elements[0], 'Random_1': random_elements[1], \n",
    "            'Random_2': random_elements[2], 'Random_3': random_elements[3], \n",
    "            'Random_4': random_elements[4], 'Random_5': random_elements[5]}\n",
    "    new_df = pd.concat([new_df, pd.DataFrame([new_row])], ignore_index=True)\n"
   ]
  },
  {
   "cell_type": "code",
   "execution_count": 6,
   "metadata": {},
   "outputs": [],
   "source": [
    "new_df.to_csv('random_selction2.csv', index=False)"
   ]
  },
  {
   "cell_type": "code",
   "execution_count": 8,
   "metadata": {},
   "outputs": [],
   "source": [
    "with open('random_selction2.csv', 'r') as csv_file:\n",
    "    csv_reader = csv.DictReader(csv_file)\n",
    "\n",
    "    data = list(csv_reader)\n",
    "\n",
    "json_data = json.dumps(data, indent=4)\n",
    "\n",
    "with open('data.json', 'w') as json_file:\n",
    "    json_file.write(json_data)\n",
    "\n"
   ]
  }
 ],
 "metadata": {
  "kernelspec": {
   "display_name": "Python 3",
   "language": "python",
   "name": "python3"
  },
  "language_info": {
   "codemirror_mode": {
    "name": "ipython",
    "version": 3
   },
   "file_extension": ".py",
   "mimetype": "text/x-python",
   "name": "python",
   "nbconvert_exporter": "python",
   "pygments_lexer": "ipython3",
   "version": "3.11.5"
  }
 },
 "nbformat": 4,
 "nbformat_minor": 2
}
