{
 "cells": [
  {
   "cell_type": "code",
   "execution_count": 22,
   "metadata": {},
   "outputs": [],
   "source": [
    "import pandas as pd\n",
    "import numpy as np"
   ]
  },
  {
   "cell_type": "code",
   "execution_count": 23,
   "metadata": {},
   "outputs": [
    {
     "data": {
      "text/html": [
       "<div>\n",
       "<style scoped>\n",
       "    .dataframe tbody tr th:only-of-type {\n",
       "        vertical-align: middle;\n",
       "    }\n",
       "\n",
       "    .dataframe tbody tr th {\n",
       "        vertical-align: top;\n",
       "    }\n",
       "\n",
       "    .dataframe thead th {\n",
       "        text-align: right;\n",
       "    }\n",
       "</style>\n",
       "<table border=\"1\" class=\"dataframe\">\n",
       "  <thead>\n",
       "    <tr style=\"text-align: right;\">\n",
       "      <th></th>\n",
       "      <th>file_path</th>\n",
       "      <th>model</th>\n",
       "      <th>make</th>\n",
       "      <th>year</th>\n",
       "    </tr>\n",
       "  </thead>\n",
       "  <tbody>\n",
       "    <tr>\n",
       "      <th>0</th>\n",
       "      <td>dataset/toyota camry 1985 exterior/184e96f8fe.jpg</td>\n",
       "      <td>camry</td>\n",
       "      <td>toyota</td>\n",
       "      <td>1985</td>\n",
       "    </tr>\n",
       "    <tr>\n",
       "      <th>1</th>\n",
       "      <td>dataset/toyota camry 1985 exterior/d7f22f0f55.jpg</td>\n",
       "      <td>camry</td>\n",
       "      <td>toyota</td>\n",
       "      <td>1985</td>\n",
       "    </tr>\n",
       "    <tr>\n",
       "      <th>2</th>\n",
       "      <td>dataset/toyota camry 1985 exterior/efea4bc06a.jpg</td>\n",
       "      <td>camry</td>\n",
       "      <td>toyota</td>\n",
       "      <td>1985</td>\n",
       "    </tr>\n",
       "    <tr>\n",
       "      <th>3</th>\n",
       "      <td>dataset/toyota camry 1985 exterior/fda182e016.jpg</td>\n",
       "      <td>camry</td>\n",
       "      <td>toyota</td>\n",
       "      <td>1985</td>\n",
       "    </tr>\n",
       "    <tr>\n",
       "      <th>4</th>\n",
       "      <td>dataset/toyota camry 1985 exterior/fcbf1688ca.jpg</td>\n",
       "      <td>camry</td>\n",
       "      <td>toyota</td>\n",
       "      <td>1985</td>\n",
       "    </tr>\n",
       "    <tr>\n",
       "      <th>...</th>\n",
       "      <td>...</td>\n",
       "      <td>...</td>\n",
       "      <td>...</td>\n",
       "      <td>...</td>\n",
       "    </tr>\n",
       "    <tr>\n",
       "      <th>1308</th>\n",
       "      <td>dataset/Chevrolet Impala 2023 exterior/18b80cf...</td>\n",
       "      <td>Impala</td>\n",
       "      <td>Chevrolet</td>\n",
       "      <td>2023</td>\n",
       "    </tr>\n",
       "    <tr>\n",
       "      <th>1309</th>\n",
       "      <td>dataset/Chevrolet Impala 2023 exterior/64f21c4...</td>\n",
       "      <td>Impala</td>\n",
       "      <td>Chevrolet</td>\n",
       "      <td>2023</td>\n",
       "    </tr>\n",
       "    <tr>\n",
       "      <th>1310</th>\n",
       "      <td>dataset/Chevrolet Impala 2023 exterior/8efbbdc...</td>\n",
       "      <td>Impala</td>\n",
       "      <td>Chevrolet</td>\n",
       "      <td>2023</td>\n",
       "    </tr>\n",
       "    <tr>\n",
       "      <th>1311</th>\n",
       "      <td>dataset/Chevrolet Impala 2023 exterior/d1b7402...</td>\n",
       "      <td>Impala</td>\n",
       "      <td>Chevrolet</td>\n",
       "      <td>2023</td>\n",
       "    </tr>\n",
       "    <tr>\n",
       "      <th>1312</th>\n",
       "      <td>dataset/Chevrolet Impala 2023 exterior/df3afb8...</td>\n",
       "      <td>Impala</td>\n",
       "      <td>Chevrolet</td>\n",
       "      <td>2023</td>\n",
       "    </tr>\n",
       "  </tbody>\n",
       "</table>\n",
       "<p>1313 rows × 4 columns</p>\n",
       "</div>"
      ],
      "text/plain": [
       "                                              file_path   model       make  \\\n",
       "0     dataset/toyota camry 1985 exterior/184e96f8fe.jpg   camry     toyota   \n",
       "1     dataset/toyota camry 1985 exterior/d7f22f0f55.jpg   camry     toyota   \n",
       "2     dataset/toyota camry 1985 exterior/efea4bc06a.jpg   camry     toyota   \n",
       "3     dataset/toyota camry 1985 exterior/fda182e016.jpg   camry     toyota   \n",
       "4     dataset/toyota camry 1985 exterior/fcbf1688ca.jpg   camry     toyota   \n",
       "...                                                 ...     ...        ...   \n",
       "1308  dataset/Chevrolet Impala 2023 exterior/18b80cf...  Impala  Chevrolet   \n",
       "1309  dataset/Chevrolet Impala 2023 exterior/64f21c4...  Impala  Chevrolet   \n",
       "1310  dataset/Chevrolet Impala 2023 exterior/8efbbdc...  Impala  Chevrolet   \n",
       "1311  dataset/Chevrolet Impala 2023 exterior/d1b7402...  Impala  Chevrolet   \n",
       "1312  dataset/Chevrolet Impala 2023 exterior/df3afb8...  Impala  Chevrolet   \n",
       "\n",
       "      year  \n",
       "0     1985  \n",
       "1     1985  \n",
       "2     1985  \n",
       "3     1985  \n",
       "4     1985  \n",
       "...    ...  \n",
       "1308  2023  \n",
       "1309  2023  \n",
       "1310  2023  \n",
       "1311  2023  \n",
       "1312  2023  \n",
       "\n",
       "[1313 rows x 4 columns]"
      ]
     },
     "execution_count": 23,
     "metadata": {},
     "output_type": "execute_result"
    }
   ],
   "source": [
    "data = pd.read_csv('image_data.csv')\n",
    "\n",
    "column_names = ['file_path', 'model', 'make', 'year']\n",
    "\n",
    "default_column_names = [f'{descriptor}' for descriptor in column_names]\n",
    "data.columns = default_column_names\n",
    "data"
   ]
  },
  {
   "cell_type": "code",
   "execution_count": 24,
   "metadata": {},
   "outputs": [],
   "source": [
    "paths_list = np.array(data['file_path'].tolist())\n",
    "new_df = pd.DataFrame(columns=['Target','Random_1','Random_2','Random_3','Random_4','Random_5'])\n"
   ]
  },
  {
   "cell_type": "code",
   "execution_count": 28,
   "metadata": {},
   "outputs": [
    {
     "data": {
      "text/plain": [
       "1313"
      ]
     },
     "execution_count": 28,
     "metadata": {},
     "output_type": "execute_result"
    }
   ],
   "source": [
    "for path in paths_list:\n",
    "    random_indices = np.random.choice(len(paths_list), size=5, replace=True)  # Choose 10 random indices without replacement\n",
    "    random_elements = paths_list[random_indices]\n",
    "    random_elements = np.insert(random_elements, 0, path)\n",
    "\n",
    "    new_row = {'Target': random_elements[0], 'Random_1': random_elements[1], \n",
    "            'Random_2': random_elements[2], 'Random_3': random_elements[3], \n",
    "            'Random_4': random_elements[4], 'Random_5': random_elements[5]}\n",
    "    new_df = pd.concat([new_df, pd.DataFrame([new_row])], ignore_index=True)\n"
   ]
  },
  {
   "cell_type": "code",
   "execution_count": 26,
   "metadata": {},
   "outputs": [],
   "source": [
    "new_df.to_csv('random_selction2.csv', index=False)"
   ]
  }
 ],
 "metadata": {
  "kernelspec": {
   "display_name": "Python 3",
   "language": "python",
   "name": "python3"
  },
  "language_info": {
   "codemirror_mode": {
    "name": "ipython",
    "version": 3
   },
   "file_extension": ".py",
   "mimetype": "text/x-python",
   "name": "python",
   "nbconvert_exporter": "python",
   "pygments_lexer": "ipython3",
   "version": "3.11.5"
  }
 },
 "nbformat": 4,
 "nbformat_minor": 2
}
